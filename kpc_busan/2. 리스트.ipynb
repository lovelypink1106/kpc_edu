{
 "cells": [
  {
   "cell_type": "markdown",
   "id": "31f779f2",
   "metadata": {},
   "source": [
    "# 리스트\n",
    "\n",
    "- 여러개의 데이터를 한꺼번에 처리할 수 있는 객체\n",
    "- 값 변경 가능\n",
    "- 순서가 있고 순서는 인덱스로 구분(0~n-1)\n",
    "    - 인덱스는 0부터 시작\n",
    "    - n-1개까지 가짐"
   ]
  },
  {
   "cell_type": "code",
   "execution_count": 4,
   "id": "b7a7296f",
   "metadata": {},
   "outputs": [
    {
     "name": "stdout",
     "output_type": "stream",
     "text": [
      "[1, 2, 3, 4]\n",
      "1 2\n",
      "1\n",
      "2\n",
      "3\n",
      "4\n",
      "4\n",
      "[1, 2, 3]\n",
      "[1, 2, 10, 4]\n",
      "[1, 10, 4]\n"
     ]
    }
   ],
   "source": [
    "a = [] #빈리스트\n",
    "b = list()\n",
    "c = [1,2,3,4] #리스트 생성\n",
    "\n",
    "print(c)\n",
    "print(c[0], c[1])\n",
    "\n",
    "for i in c:\n",
    "    print(i)\n",
    "    \n",
    "print(c[-1]) # 맨마지막 데이터 출력\n",
    "print(c[0:3]) #어디서부터(시작):어디까지(직전)\n",
    "c[2] = 10 #a[2] 자리 데이터를 10으로 수정\n",
    "print(c)\n",
    "del c[1] #삭제\n",
    "print(c)"
   ]
  },
  {
   "cell_type": "code",
   "execution_count": 11,
   "id": "651636f8",
   "metadata": {},
   "outputs": [
    {
     "data": {
      "text/plain": [
       "2"
      ]
     },
     "execution_count": 11,
     "metadata": {},
     "output_type": "execute_result"
    }
   ],
   "source": [
    "#함수\n",
    "\n",
    "b=['오예스','몽쉘','초코파이']\n",
    "b.append('빅파이') #추가\n",
    "b.remove('몽쉘') #삭제\n",
    "\n",
    "b.sort()#정렬\n",
    "b.sort(reverse=True) # 내림차순정렬\n",
    "b.reverse() #리스트 안의 순서만 반대로\n",
    "\n",
    "b.index('초코파이') #자리번호"
   ]
  },
  {
   "cell_type": "markdown",
   "id": "61cfeb8c",
   "metadata": {},
   "source": [
    "# 햄버거 주문"
   ]
  },
  {
   "cell_type": "code",
   "execution_count": 22,
   "id": "afb15c7f",
   "metadata": {},
   "outputs": [
    {
     "name": "stdout",
     "output_type": "stream",
     "text": [
      "Welcome! Python Buger\n",
      "\n",
      "1, 올인원팩 (6000원)\n",
      "2, 투게더팩 (7000원)\n",
      "3, 트리오팩 (8000원)\n",
      "4, 패밀리팩 (1000원)\n",
      ">> 2 5\n",
      "투게더팩 을 5 개 주문하셨습니다.\n",
      "결제하실 금액은  35000 원 입니다\n"
     ]
    }
   ],
   "source": [
    "print('Welcome! Python Buger\\n')\n",
    "\n",
    "menu = ['올인원팩', '투게더팩', '트리오팩', '패밀리팩']\n",
    "price = [6000,7000,8000,1000]\n",
    "\n",
    "for n in range(len(menu)):\n",
    "    print('%d, %s (%d원)' %(n+1, menu[n], price[n]))\n",
    "    \n",
    "order, num = map(int, input(\">> \").split(' ')) #map(int, a) : a리스트를 int로 모두 적용\n",
    "\n",
    "order -=1\n",
    "print(menu[order], '을', num, '개 주문하셨습니다.')\n",
    "print('결제하실 금액은 ', price[order] * num, '원 입니다')"
   ]
  },
  {
   "cell_type": "code",
   "execution_count": 21,
   "id": "6e0be02c",
   "metadata": {},
   "outputs": [
    {
     "data": {
      "text/plain": [
       "(3, 2)"
      ]
     },
     "execution_count": 21,
     "metadata": {},
     "output_type": "execute_result"
    }
   ],
   "source": [
    "order, num"
   ]
  },
  {
   "cell_type": "markdown",
   "id": "4f0144b2",
   "metadata": {},
   "source": [
    "# 학생 등수 출력\n",
    "- 학생의 점수를 5개 입력받아 점수와 등수를 출력하세요."
   ]
  },
  {
   "cell_type": "code",
   "execution_count": 29,
   "id": "98a162b6",
   "metadata": {},
   "outputs": [
    {
     "name": "stdout",
     "output_type": "stream",
     "text": [
      "점수를 입력하세요 :50\n",
      "점수를 입력하세요 :88\n",
      "점수를 입력하세요 :65\n",
      "점수를 입력하세요 :75\n",
      "점수를 입력하세요 :23\n",
      "\n",
      "\n",
      "<< 등수 출력 >>\n",
      "88점 학생:1등\n",
      "75점 학생:2등\n",
      "65점 학생:3등\n",
      "50점 학생:4등\n",
      "23점 학생:5등\n"
     ]
    }
   ],
   "source": [
    "score_list = []\n",
    "for i in range(5):\n",
    "    score = int(input('점수를 입력하세요 :'))\n",
    "    score_list.append(score)\n",
    "    \n",
    "score_list.sort(reverse=True)\n",
    "\n",
    "print('\\n\\n<< 등수 출력 >>')\n",
    "rank = 1\n",
    "for s in score_list:\n",
    "    print('{}점 학생 : {}등'.format(s,rank))\n",
    "    rank +=1"
   ]
  },
  {
   "cell_type": "code",
   "execution_count": 30,
   "id": "17b55993",
   "metadata": {},
   "outputs": [
    {
     "data": {
      "text/plain": [
       "[88, 75, 65, 50, 23]"
      ]
     },
     "execution_count": 30,
     "metadata": {},
     "output_type": "execute_result"
    }
   ],
   "source": [
    "score_list"
   ]
  },
  {
   "cell_type": "code",
   "execution_count": null,
   "id": "d82ec54c",
   "metadata": {},
   "outputs": [],
   "source": []
  }
 ],
 "metadata": {
  "kernelspec": {
   "display_name": "Python 3 (ipykernel)",
   "language": "python",
   "name": "python3"
  },
  "language_info": {
   "codemirror_mode": {
    "name": "ipython",
    "version": 3
   },
   "file_extension": ".py",
   "mimetype": "text/x-python",
   "name": "python",
   "nbconvert_exporter": "python",
   "pygments_lexer": "ipython3",
   "version": "3.11.3"
  }
 },
 "nbformat": 4,
 "nbformat_minor": 5
}
