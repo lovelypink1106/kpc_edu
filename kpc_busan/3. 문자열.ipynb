{
 "cells": [
  {
   "cell_type": "markdown",
   "id": "a2f2d7d1",
   "metadata": {},
   "source": [
    "## 문자열\n",
    "\n",
    "- ''나\"\"\n",
    "- 인덱스로 값 접근(수정안됨)"
   ]
  },
  {
   "cell_type": "code",
   "execution_count": 3,
   "id": "0bc2bb8d",
   "metadata": {},
   "outputs": [
    {
     "data": {
      "text/plain": [
       "'python'"
      ]
     },
     "execution_count": 3,
     "metadata": {},
     "output_type": "execute_result"
    }
   ],
   "source": [
    "lang = 'python'\n",
    "\n",
    "#lang[0] = 'p' #error\n",
    "\n",
    "lang[-1] # 추출\n",
    "lang[1:4] # 슬라이싱\n",
    "lang[:]"
   ]
  },
  {
   "cell_type": "code",
   "execution_count": 4,
   "id": "643a19c1",
   "metadata": {},
   "outputs": [
    {
     "name": "stdout",
     "output_type": "stream",
     "text": [
      "꿀꽈배기2개\n",
      "꿀꽈배기주세요\n",
      "꿀꽈배기꿀꽈배기꿀꽈배기꿀꽈배기꿀꽈배기\n",
      "꿀꽈배기2개\n",
      "꿀꽈배기2개 주세요\n"
     ]
    },
    {
     "data": {
      "text/plain": [
       "'꿀꽈배기2봉지 주세요'"
      ]
     },
     "execution_count": 4,
     "metadata": {},
     "output_type": "execute_result"
    }
   ],
   "source": [
    "snack = '꿀꽈배기'\n",
    "num = '2개'\n",
    "\n",
    "# 문자열 연산\n",
    "print(snack + num) #꿀꽈배기2개\n",
    "print(snack + '주세요') # '꿀꽈배기주세요'\n",
    "print(snack *5) #'꿀꽈배기꿀꽈배기꿀꽈배기꿀꽈배기꿀꽈배기'\n",
    "\n",
    "snack += num #꿀꽈배기2개\n",
    "print(snack)\n",
    "snack +=' 주세요' #꿀꽈배기2개 주세요\n",
    "print(snack)\n",
    "len(snack) #8 \n",
    "snack.count('요') #1\n",
    "snack.replace('개','봉지') #'꿀꽈배기2봉지 주세요'"
   ]
  },
  {
   "cell_type": "code",
   "execution_count": 17,
   "id": "6226a49a",
   "metadata": {},
   "outputs": [
    {
     "data": {
      "text/plain": [
       "'Life Is Too Short'"
      ]
     },
     "execution_count": 17,
     "metadata": {},
     "output_type": "execute_result"
    }
   ],
   "source": [
    "s = 'life is too short'\n",
    "\n",
    "s.lower() #소문자\n",
    "s.upper() #대문자\n",
    "s.capitalize() #문장의 첫글자만 대문자로\n",
    "s.title() #단어의 첫글자를 대문자로"
   ]
  },
  {
   "cell_type": "code",
   "execution_count": 37,
   "id": "d4ab4b8f",
   "metadata": {},
   "outputs": [
    {
     "name": "stdout",
     "output_type": "stream",
     "text": [
      "사이트를 입력해주세요(예:http://naver.com) : http://goole.com\n",
      "추천 비밀번호 : goo50!\n"
     ]
    }
   ],
   "source": [
    "url = input('사이트를 입력해주세요(예:http://naver.com) : ')\n",
    "\n",
    "cut = url.split('/') # '/' 자르기 ['http:', '', 'naver.com']\n",
    "dot_cut = cut[2].split('.') # '.' 자르기 ['naver', 'com']\n",
    "\n",
    "cut_3 = dot_cut[0][:3] # ['naver', 'com'] 에서 0번째 자리 앞3글자(nav) 추출 \n",
    "lenth = len(dot_cut[0])\n",
    "e = dot_cut[0].count('e')\n",
    "\n",
    "print(f'추천 비밀번호 : {cut_3}{lenth}{e}!')\n"
   ]
  },
  {
   "cell_type": "code",
   "execution_count": 8,
   "id": "641b9e93",
   "metadata": {},
   "outputs": [
    {
     "data": {
      "text/plain": [
       "('06', '12')"
      ]
     },
     "execution_count": 8,
     "metadata": {},
     "output_type": "execute_result"
    }
   ],
   "source": [
    "code = '061213-4567895'\n",
    "code[:2],code[2:4] #년, 월"
   ]
  },
  {
   "cell_type": "code",
   "execution_count": 14,
   "id": "f25bf09c",
   "metadata": {},
   "outputs": [
    {
     "name": "stdout",
     "output_type": "stream",
     "text": [
      "사이트를 입력해주세요(예:http://naver.com) : http://daum.net\n",
      "추천 비밀번호 : dau40!\n"
     ]
    },
    {
     "data": {
      "text/plain": [
       "['daum', 'net']"
      ]
     },
     "execution_count": 14,
     "metadata": {},
     "output_type": "execute_result"
    }
   ],
   "source": [
    "url = input('사이트를 입력해주세요(예:http://naver.com) : ')\n",
    "\n",
    "cut = url.split('/') \n",
    "dot_cut = cut[2].split('.') \n",
    "\n",
    "cut_3 = dot_cut[0][:3] \n",
    "lenth = len(dot_cut[0])\n",
    "e = dot_cut[0].count('e')\n",
    "\n",
    "print(f'추천 비밀번호 : {cut_3}{lenth}{e}!')\n",
    "dot_cut"
   ]
  },
  {
   "cell_type": "code",
   "execution_count": 10,
   "id": "b46c10fe",
   "metadata": {},
   "outputs": [
    {
     "name": "stdout",
     "output_type": "stream",
     "text": [
      "사이트 주소를 입력하세요 : http://google.com\n",
      "새 비밀번호는 goo61! 입니다\n"
     ]
    }
   ],
   "source": [
    "#url = 'http://naver.com'\n",
    "url = input('사이트 주소를 입력하세요 : ')\n",
    "# url = url[len('http://'):]\n",
    "url = url.replace('http://','') #문자열 삭제 replace(문자열)\n",
    "idx = url.index('.')\n",
    "url = url[0:idx]\n",
    "\n",
    "new_passwd = url[:3] + str(len(url)) + str(url.count('e')) + '!'\n",
    "print(f'새 비밀번호는 {new_passwd} 입니다')"
   ]
  }
 ],
 "metadata": {
  "kernelspec": {
   "display_name": "Python 3 (ipykernel)",
   "language": "python",
   "name": "python3"
  },
  "language_info": {
   "codemirror_mode": {
    "name": "ipython",
    "version": 3
   },
   "file_extension": ".py",
   "mimetype": "text/x-python",
   "name": "python",
   "nbconvert_exporter": "python",
   "pygments_lexer": "ipython3",
   "version": "3.11.3"
  }
 },
 "nbformat": 4,
 "nbformat_minor": 5
}
