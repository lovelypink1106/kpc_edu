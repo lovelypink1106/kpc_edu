{
 "cells": [
  {
   "cell_type": "markdown",
   "id": "ee42f581",
   "metadata": {},
   "source": [
    "# 변수\n"
   ]
  },
  {
   "cell_type": "code",
   "execution_count": 1,
   "id": "b70b76c1",
   "metadata": {},
   "outputs": [
    {
     "name": "stdout",
     "output_type": "stream",
     "text": [
      "당신의 이름은  정형돈 입니다\n",
      "이름 정형돈 점수 30\n",
      "점수 30 이름 정형돈\n",
      "이름 정형돈 점수 30\n",
      "       정형돈 30 20\n"
     ]
    }
   ],
   "source": [
    "name = '정형돈'\n",
    "score = 30\n",
    "print('당신의 이름은 ', name, '입니다')\n",
    "print('이름 {} 점수 {}'.format(name, score))\n",
    "print('점수 {1} 이름 {0}'.format(name, score)) # name : 0, score : 1\n",
    "print(f'이름 {name} 점수 {score}')\n",
    "print('%10s %d %d'%(name, score, 20))"
   ]
  },
  {
   "cell_type": "code",
   "execution_count": 4,
   "id": "9ac9fcb0",
   "metadata": {},
   "outputs": [
    {
     "name": "stdout",
     "output_type": "stream",
     "text": [
      "예약자분 성함이 어떻게 되나요?kim\n",
      "총 몇분이세요?6\n",
      "죄송하지만 저희 식당은 최대 4분까지만 예약가능합니다\n"
     ]
    }
   ],
   "source": [
    "name = input('예약자분 성함이 어떻게 되나요?')\n",
    "num = int(input('총 몇분이세요?'))\n",
    "#num=int(num)\n",
    "\n",
    "if num > 4:\n",
    "    print('죄송하지만 저희 식당은 최대 4분까지만 예약가능합니다')"
   ]
  },
  {
   "cell_type": "code",
   "execution_count": 5,
   "id": "8226e95c",
   "metadata": {},
   "outputs": [
    {
     "data": {
      "text/plain": [
       "('kim', 6)"
      ]
     },
     "execution_count": 5,
     "metadata": {},
     "output_type": "execute_result"
    }
   ],
   "source": [
    "name, num"
   ]
  },
  {
   "cell_type": "code",
   "execution_count": null,
   "id": "e8d635ed",
   "metadata": {},
   "outputs": [],
   "source": [
    "station = input('사용자 입력: ')\n",
    "station"
   ]
  },
  {
   "cell_type": "code",
   "execution_count": 32,
   "id": "a7c7f2b2",
   "metadata": {},
   "outputs": [
    {
     "name": "stdout",
     "output_type": "stream",
     "text": [
      "사용자 입력(종료q): q\n",
      "프로그램을 종료합니다.\n"
     ]
    }
   ],
   "source": [
    "i=0\n",
    "while True:\n",
    "    station = input('사용자 입력(종료q): ')\n",
    "    \n",
    "    if station == 'q':\n",
    "        print('프로그램을 종료합니다.')\n",
    "        break\n",
    "    else: \n",
    "        i=i+1\n",
    "        print(f'{i}. {station} 행 열차가 들어오고 있습니다.')"
   ]
  },
  {
   "cell_type": "markdown",
   "id": "b3b8f0e5",
   "metadata": {},
   "source": [
    "# BMI "
   ]
  },
  {
   "cell_type": "code",
   "execution_count": 33,
   "id": "84d244e3",
   "metadata": {},
   "outputs": [
    {
     "name": "stdout",
     "output_type": "stream",
     "text": [
      "키: 158\n",
      "몸무게: 58\n",
      "성별(남 / 여): 여\n",
      "BMI : 23\n",
      "과체중\n"
     ]
    }
   ],
   "source": [
    "height = float(input('키: '))\n",
    "weight = float(input('몸무게: '))\n",
    "gender = input('성별(남 / 여): ')\n",
    "\n",
    "bmi = weight/((height*0.01)*(height*0.01))\n",
    "print('BMI : %2.f' %bmi)\n",
    "\n",
    "if gender == '남':\n",
    "    if bmi < 18.5:\n",
    "        print('저체중')\n",
    "    elif bmi < 25:\n",
    "        print('보통')\n",
    "    elif bmi < 30:\n",
    "        print('과체중')\n",
    "    elif bmi < 35:\n",
    "        print('비만')\n",
    "    else:\n",
    "        print('초고도 비만')\n",
    "        \n",
    "if gender == '여':\n",
    "    if bmi < 18.5:\n",
    "        print('저체중')\n",
    "    elif bmi < 23:\n",
    "        print('보통')\n",
    "    elif bmi < 25:\n",
    "        print('과체중')\n",
    "    elif bmi < 30:\n",
    "        print('비만')\n",
    "    else:\n",
    "        print('초고도 비만')\n",
    "else:\n",
    "    print('성별 오류')\n",
    "    \n",
    "    "
   ]
  }
 ],
 "metadata": {
  "kernelspec": {
   "display_name": "Python 3 (ipykernel)",
   "language": "python",
   "name": "python3"
  },
  "language_info": {
   "codemirror_mode": {
    "name": "ipython",
    "version": 3
   },
   "file_extension": ".py",
   "mimetype": "text/x-python",
   "name": "python",
   "nbconvert_exporter": "python",
   "pygments_lexer": "ipython3",
   "version": "3.11.3"
  }
 },
 "nbformat": 4,
 "nbformat_minor": 5
}
