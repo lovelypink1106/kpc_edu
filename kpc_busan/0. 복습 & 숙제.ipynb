{
 "cells": [
  {
   "cell_type": "code",
   "execution_count": 7,
   "id": "feacf1a8",
   "metadata": {},
   "outputs": [
    {
     "name": "stdout",
     "output_type": "stream",
     "text": [
      "예약자분 성함 :ㄹ\n",
      "인원수 : 4\n",
      "ㄹ씨 4명 예약완료\n"
     ]
    }
   ],
   "source": [
    "name = input('예약자분 성함 :')\n",
    "num = int(input('인원수 : '))\n",
    "\n",
    "if num > 4:\n",
    "     print('님 죄송. 4명까지만 예약가능')\n",
    "else:\n",
    "    print(f'{name}씨 {num}명 예약완료')\n"
   ]
  },
  {
   "cell_type": "code",
   "execution_count": 9,
   "id": "8efd0256",
   "metadata": {},
   "outputs": [
    {
     "name": "stdout",
     "output_type": "stream",
     "text": [
      "['오예스', '몽쉘', '초코파이', '빅파이']\n"
     ]
    }
   ],
   "source": [
    "snack = ['오예스','몽쉘','초코파이']\n",
    "snack.append('빅파이')\n",
    "print(snack)\n",
    "sanck.remove('몽셀')"
   ]
  },
  {
   "cell_type": "markdown",
   "id": "70b6f3bc",
   "metadata": {},
   "source": [
    "# 숙제"
   ]
  },
  {
   "cell_type": "code",
   "execution_count": null,
   "id": "aa1d103c",
   "metadata": {},
   "outputs": [],
   "source": [
    "# 좋아하는 메뉴 리스트\n",
    "# 직접 점심/ 저녁메뉴 초이스\n",
    "# ===================\n",
    "# 2022년 7월 30일\n",
    "# 오늘의 메뉴\n",
    "# 라면\n",
    "# ===================="
   ]
  },
  {
   "cell_type": "code",
   "execution_count": 73,
   "id": "ddce02f3",
   "metadata": {
    "scrolled": true
   },
   "outputs": [
    {
     "name": "stdout",
     "output_type": "stream",
     "text": [
      "====================\n",
      "     2023-06-01     \n",
      "     오늘의 점심     \n",
      "    김치찌개 정식     \n",
      "====================\n",
      "     2023-06-01     \n",
      "     오늘의 저녁     \n",
      "      삼겹살       \n",
      "====================\n"
     ]
    }
   ],
   "source": [
    "import random\n",
    "import datetime\n",
    "\n",
    "lunch_menu = ['돈까스','냉면','샤브샤브','햄버거','짬뽕','김치찌개 정식']\n",
    "dinner_menu = ['회','돼지갈비','삼겹살','수육','감자탕']\n",
    "\n",
    "lunch = random.choice(lunch_menu)\n",
    "dinner = random.choice(dinner_menu)\n",
    "today = datetime.date.today()\n",
    "\n",
    "print('='*20)\n",
    "print(str(today).center(20))\n",
    "print(\"오늘의 점심\".center(16))\n",
    "print(lunch.center(16))\n",
    "print('='*20)\n",
    "\n",
    "print(f'{str(today):^20}')\n",
    "print('{0:^16}'.format(\"오늘의 저녁\"))\n",
    "print(f'{dinner:^16}')\n",
    "print('='*20)"
   ]
  }
 ],
 "metadata": {
  "kernelspec": {
   "display_name": "Python 3 (ipykernel)",
   "language": "python",
   "name": "python3"
  },
  "language_info": {
   "codemirror_mode": {
    "name": "ipython",
    "version": 3
   },
   "file_extension": ".py",
   "mimetype": "text/x-python",
   "name": "python",
   "nbconvert_exporter": "python",
   "pygments_lexer": "ipython3",
   "version": "3.11.3"
  }
 },
 "nbformat": 4,
 "nbformat_minor": 5
}
