{
 "cells": [
  {
   "cell_type": "markdown",
   "id": "edd9453d",
   "metadata": {},
   "source": [
    "# 함수"
   ]
  },
  {
   "cell_type": "code",
   "execution_count": 2,
   "id": "51d7ed63",
   "metadata": {},
   "outputs": [
    {
     "name": "stdout",
     "output_type": "stream",
     "text": [
      "안녕\n"
     ]
    }
   ],
   "source": [
    "#함수 정의\n",
    "\n",
    "# def 함수이름():\n",
    "#    코드\n",
    "\n",
    "# 함수이름()\n",
    "\n",
    "def func():\n",
    "    print('안녕')\n",
    "    \n",
    "func()"
   ]
  },
  {
   "cell_type": "code",
   "execution_count": 4,
   "id": "79634984",
   "metadata": {},
   "outputs": [
    {
     "name": "stdout",
     "output_type": "stream",
     "text": [
      "안녕 홍길동\n",
      "안녕 나은아\n",
      "안녕 자기야\n"
     ]
    }
   ],
   "source": [
    "# 매개변수가 있는 함수\n",
    "# def 함수이름(매개변수1, 매개변수2,.....):\n",
    "#    코드\n",
    "\n",
    "# 함수이름(값1, 값2)\n",
    "\n",
    "def func_name(name):\n",
    "    print('안녕', name)\n",
    "    \n",
    "func_name('홍길동')\n",
    "func_name('나은아')\n",
    "func_name('자기야')"
   ]
  },
  {
   "cell_type": "code",
   "execution_count": 8,
   "id": "e213381f",
   "metadata": {},
   "outputs": [
    {
     "name": "stdout",
     "output_type": "stream",
     "text": [
      "안녕 파이썬\n"
     ]
    }
   ],
   "source": [
    "def func_name(name = '파이썬'): #디폴트값을 넣을수도 있다.\n",
    "    print('안녕', name)\n",
    "    \n",
    "func_name()"
   ]
  },
  {
   "cell_type": "code",
   "execution_count": 10,
   "id": "2da7ea0d",
   "metadata": {},
   "outputs": [
    {
     "name": "stdout",
     "output_type": "stream",
     "text": [
      "안녕하세요파이썬 반가워요\n"
     ]
    }
   ],
   "source": [
    "# 반환값이 있는 함수\n",
    "# def 함수이름(매개변수):\n",
    "#     return 반환값\n",
    "\n",
    "def func_name(name = '파이썬'): #디폴트값을 넣을수도 있다.\n",
    "    result ='안녕하세요'+name\n",
    "    return result\n",
    "\n",
    "a=func_name()\n",
    "print(a, '반가워요')"
   ]
  },
  {
   "cell_type": "code",
   "execution_count": 13,
   "id": "8569a2f3",
   "metadata": {},
   "outputs": [
    {
     "name": "stdout",
     "output_type": "stream",
     "text": [
      "안녕하세요파이썬 반가워요\n"
     ]
    }
   ],
   "source": [
    "# 반환값이 있는 함수\n",
    "# def 함수이름(매개변수):\n",
    "#     return 반환값\n",
    "\n",
    "def func_name(name = '파이썬'): #디폴트값을 넣을수도 있다.\n",
    "    result ='안녕하세요'+ name\n",
    "    return result\n",
    "\n",
    "a=func_name()\n",
    "print(a, '반가워요')"
   ]
  },
  {
   "cell_type": "code",
   "execution_count": 15,
   "id": "446a9ce0",
   "metadata": {},
   "outputs": [
    {
     "name": "stdout",
     "output_type": "stream",
     "text": [
      "나장발고객님\n",
      "커트 가격은 10,000원입니다.\n",
      "나수염고객님\n",
      "커트 가격은 10,000원입니다.\n",
      "나푼젤고객님\n",
      "커트 가격은 10,000원입니다.\n"
     ]
    }
   ],
   "source": [
    "customer1 = '나장발'\n",
    "print(f'{customer1}고객님')\n",
    "print('커트 가격은 10,000원입니다.')\n",
    "\n",
    "customer2 = '나수염'\n",
    "print(f'{customer2}고객님')\n",
    "print('커트 가격은 10,000원입니다.')\n",
    "\n",
    "customer3 = '나푼젤'\n",
    "print(f'{customer3}고객님')\n",
    "print('커트 가격은 10,000원입니다.')\n",
    "\n",
    "# 가격인상 10000 -> 15000원 (무릉도원샴푸)"
   ]
  },
  {
   "cell_type": "code",
   "execution_count": 18,
   "id": "f1ebaf10",
   "metadata": {},
   "outputs": [
    {
     "name": "stdout",
     "output_type": "stream",
     "text": [
      "나장발고객님\n",
      "감성커트 가격은 15000원입니다.\n",
      "나수염고객님\n",
      "감성커트 가격은 15000원입니다.\n",
      "나푼젤고객님\n",
      "감성커트 가격은 15000원입니다.\n"
     ]
    }
   ],
   "source": [
    "# 가격인상 10000 -> 15000원 (무릉도원샴푸)\n",
    "def show_price(customer):\n",
    "    print(f'{customer}고객님')\n",
    "    print('감성커트 가격은 15000원입니다.')\n",
    "    \n",
    "customer1 = '나장발'\n",
    "show_price(customer1)\n",
    "\n",
    "customer2 = '나수염'\n",
    "show_price(customer2)\n",
    "\n",
    "customer3 = '나푼젤'\n",
    "show_price(customer3)"
   ]
  },
  {
   "cell_type": "code",
   "execution_count": 22,
   "id": "07dc09e7",
   "metadata": {},
   "outputs": [
    {
     "name": "stdout",
     "output_type": "stream",
     "text": [
      "나장발고객님\n",
      "감성커트 가격은 12000원입니다.\n",
      "나수염고객님\n",
      "감성커트 가격은 15000원입니다.\n",
      "나푼젤고객님\n",
      "감성커트 가격은 15000원입니다.\n"
     ]
    }
   ],
   "source": [
    "def get_price(is_vip):\n",
    "    if is_vip == True:\n",
    "        return 12000\n",
    "    else:\n",
    "        return 15000\n",
    "\n",
    "def show_price(customer, is_vip = False, is_birthday = False, is_memebership = False):\n",
    "    price = get_price(is_vip)\n",
    "    \n",
    "    print(f'{customer}고객님')\n",
    "    print(f'감성커트 가격은 {price}원입니다.')\n",
    "    \n",
    "\n",
    "customer1 = '나장발'\n",
    "show_price(customer1, is_vip=True)\n",
    "\n",
    "customer2 = '나수염'\n",
    "show_price(customer2)\n",
    "\n",
    "customer3 = '나푼젤'\n",
    "show_price(customer3)"
   ]
  },
  {
   "cell_type": "code",
   "execution_count": 24,
   "id": "ec232283",
   "metadata": {},
   "outputs": [
    {
     "name": "stdout",
     "output_type": "stream",
     "text": [
      "사랑하는 나장발 고객님\n",
      "감성커트 가격은 14000원 입니다.(무릉도원 샴푸서비스)\n",
      "사랑하는 나수염 고객님\n",
      "감성커트 가격은 15000원 입니다.(무릉도원 샴푸서비스)\n",
      "사랑하는 나푼젤 고객님\n",
      "감성커트 가격은 13000원 입니다.(무릉도원 샴푸서비스)\n"
     ]
    }
   ],
   "source": [
    "def get_price(is_vip = False,\n",
    "              is_birthday=False, \n",
    "              is_membership=False, \n",
    "              is_review=False, \n",
    "              first_time=False):\n",
    "    price = 16000\n",
    "    \n",
    "    if is_vip == True:\n",
    "        price -= 3000\n",
    "    \n",
    "    if is_birthday:\n",
    "        price -= 1000\n",
    "        \n",
    "    if is_review:\n",
    "        price -= 2000\n",
    "        \n",
    "    return price\n",
    "    \n",
    "    \n",
    "\n",
    "def show_price(customer, is_vip=False,\n",
    "              is_birthday=False, \n",
    "              is_membership=False, \n",
    "              is_review=False, \n",
    "              first_time=False):\n",
    "    print(f'사랑하는 {customer} 고객님')    \n",
    "    print('감성커트 가격은 {}원 입니다.(무릉도원 샴푸서비스)'.format(get_price(is_vip,is_birthday,is_membership, is_review, first_time)))\n",
    "\n",
    "\n",
    "    \n",
    "customer1 = '나장발'\n",
    "show_price(customer1, is_review = True)\n",
    "\n",
    "customer2 = '나수염'\n",
    "show_price(customer2, is_birthday = True)\n",
    "\n",
    "customer3 = '나푼젤'\n",
    "show_price(customer3, is_vip = True)"
   ]
  },
  {
   "cell_type": "code",
   "execution_count": 32,
   "id": "c66998ba",
   "metadata": {},
   "outputs": [
    {
     "name": "stdout",
     "output_type": "stream",
     "text": [
      "사랑하는 나장발 고객님\n",
      "14000\n",
      "감성커트 가격은 None원 입니다.(무릉도원 샴푸서비스)\n",
      "사랑하는 나수염 고객님\n",
      "15000\n",
      "감성커트 가격은 None원 입니다.(무릉도원 샴푸서비스)\n",
      "사랑하는 나푼젤 고객님\n",
      "13000\n",
      "감성커트 가격은 None원 입니다.(무릉도원 샴푸서비스)\n"
     ]
    }
   ],
   "source": [
    "def get_price(is_vip = False,\n",
    "              is_birthday=False, \n",
    "              is_membership=False, \n",
    "              is_review=False, \n",
    "              first_time=False):\n",
    "    price = 16000\n",
    "    \n",
    "    if is_vip == True:\n",
    "        price -= 3000\n",
    "    \n",
    "    if is_birthday:\n",
    "        price -= 1000\n",
    "        \n",
    "    if is_review:\n",
    "        price -= 2000\n",
    "        \n",
    "    print(price)\n",
    "    \n",
    "    \n",
    "\n",
    "def show_price(customer, is_vip=False,\n",
    "              is_birthday=False, \n",
    "              is_membership=False, \n",
    "              is_review=False, \n",
    "              first_time=False):\n",
    "    print(f'사랑하는 {customer} 고객님')    \n",
    "    print('감성커트 가격은 {}원 입니다.(무릉도원 샴푸서비스)'.format(get_price(is_vip,is_birthday,is_membership, is_review, first_time)))\n",
    "\n",
    "\n",
    "    \n",
    "customer1 = '나장발'\n",
    "show_price(customer1, is_review = True)\n",
    "\n",
    "customer2 = '나수염'\n",
    "show_price(customer2, is_birthday = True)\n",
    "\n",
    "customer3 = '나푼젤'\n",
    "show_price(customer3, is_vip = True)"
   ]
  },
  {
   "cell_type": "code",
   "execution_count": 34,
   "id": "9b7fadb9",
   "metadata": {},
   "outputs": [],
   "source": [
    "#byme.py\n",
    "\n",
    "def sign():\n",
    "    print('이 프로그램은 Python 실습과정에 의해 만들어졌습니다.')\n",
    "    print('블로그 : ')\n",
    "    print('이메일:young_0620@naver.com')"
   ]
  },
  {
   "cell_type": "code",
   "execution_count": 35,
   "id": "b3cfd1b0",
   "metadata": {},
   "outputs": [
    {
     "name": "stdout",
     "output_type": "stream",
     "text": [
      "이 프로그램은 Python 실습과정에 의해 만들어졌습니다.\n",
      "블로그 : \n",
      "이메일:young_0620@naver.com\n"
     ]
    }
   ],
   "source": [
    "sign()"
   ]
  }
 ],
 "metadata": {
  "kernelspec": {
   "display_name": "Python 3 (ipykernel)",
   "language": "python",
   "name": "python3"
  },
  "language_info": {
   "codemirror_mode": {
    "name": "ipython",
    "version": 3
   },
   "file_extension": ".py",
   "mimetype": "text/x-python",
   "name": "python",
   "nbconvert_exporter": "python",
   "pygments_lexer": "ipython3",
   "version": "3.11.3"
  }
 },
 "nbformat": 4,
 "nbformat_minor": 5
}
