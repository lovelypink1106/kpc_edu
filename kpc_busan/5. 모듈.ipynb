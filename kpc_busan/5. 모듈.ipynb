{
 "cells": [
  {
   "cell_type": "markdown",
   "id": "af0a1a71",
   "metadata": {},
   "source": [
    "# 모듈\n",
    "\n",
    "각종 변수, 함수, 클래스를 담고 있는 파일\n",
    "여러 모듈을 묶은 것을 패키지\n",
    "\n",
    "- 함수 : 어떤 동작을 수행하는 코드들의 묶음\n",
    "- 클래스 : 변수, 함수를 묶어 하나의 클래스로 정의\n",
    "- 모듈 : 특정함수, 변수, 클래스 등이 구현되어 있는 파이썬 파일(py)\n",
    "- 패키지 : 여러 모듈을 묶어 놓은것.\n",
    "- 라이브러리 : 여러 패키지의 모음\n",
    "\n",
    "- 모듈 가져오기\n",
    "    - import 모듈\n",
    "    - import 모듈1, 모듈2\n",
    "- 모듈 사용하기\n",
    "    - 모듈.변수\n",
    "    - 모듈.함수()\n",
    "    - 모듈.클래스\n",
    "- 일부 모듈만 가져오기\n",
    "    - from 모듈 import 변수\n",
    "    - from 모듈 import 함수\n",
    "    - from 모듈 import 클래스\n"
   ]
  },
  {
   "cell_type": "code",
   "execution_count": null,
   "id": "a6d6a711",
   "metadata": {},
   "outputs": [],
   "source": [
    "import random\n",
    "\n",
    "#랜덤값 구하기\n",
    "random.random()\n",
    "random.randint(1,100) # 랜덤 정수 int형 N을 반환(a<=N<=b)\n",
    "random.randrange(1,100,2) #1~99까지 홀수만\n",
    "\n",
    "L = [1,2,4,5,6,9]\n",
    "random.choice(L) #리스트에서 랜덤값\n",
    "random.shuffle(L) #리스트를 섞어줌\n",
    "random.sample(L,2) #리스트 중 2개 랜덤.\n",
    "\n",
    "mylist = ['가위','바위','보']\n",
    "print(random.choice(mylist))\n",
    "\n",
    "\n",
    "# 12개 띠 중에서 랜덤으로 3개 출력\n",
    "li=['원숭이','닭','개','돼지','쥐','소','호랑이','토끼','용','뱀','말','양']\n",
    "print(random.sample(li,3))\n",
    "\n",
    "for i in range(3):\n",
    "    print(random.choice(li))"
   ]
  }
 ],
 "metadata": {
  "kernelspec": {
   "display_name": "Python 3 (ipykernel)",
   "language": "python",
   "name": "python3"
  },
  "language_info": {
   "codemirror_mode": {
    "name": "ipython",
    "version": 3
   },
   "file_extension": ".py",
   "mimetype": "text/x-python",
   "name": "python",
   "nbconvert_exporter": "python",
   "pygments_lexer": "ipython3",
   "version": "3.11.3"
  }
 },
 "nbformat": 4,
 "nbformat_minor": 5
}
